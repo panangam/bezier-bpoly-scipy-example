{
 "cells": [
  {
   "cell_type": "markdown",
   "id": "ccbf0604",
   "metadata": {},
   "source": [
    "# How to draw bezier curves with SciPy\n",
    "\n",
    "Have you ever wanted to use a bezier in Python but don't want to install a weird package for it?\n",
    "Do you really like the numpy-scipy stack but are disappointed that they don't provide bezier utilities?\n",
    "Well it turns out they do! It's just called **\"BPoly\".** This notebook will show you how to use it.\n",
    "\n",
    "## Helpful resources\n",
    "- https://youtu.be/aVwxzDHniEw: a great youtube video on the topic\n",
    "- https://en.wikipedia.org/wiki/B%C3%A9zier_curve: Wikipedia\n",
    "- https://docs.scipy.org/doc/scipy/reference/generated/scipy.interpolate.BPoly.html: SciPy documentation on BPoly\n",
    "\n",
    "## What is a bezier curve?\n",
    "\n",
    "**A bezier curve is an interpolation of points**, which probably explains why `BPoly` is found in `scipy.interpolate`. A characteristic of bezier curves is that they start and end at control points, and the curve in-between is controled by the other control points. In other words, it's trying to approximate the data between those control points, i.e. interpolating them.\n",
    "\n",
    "There are many ways to interpolate points: linear, quadratic, etc. As it turns out, bezier curves interpolate the points using \"Bernstein polynomial\" (that's what BPoly stands for!). In a nutshell, they can be thought of as a way to do weighted average between the points, where the coefficients always sum up to 1. So as we go along the curve, we take an average of all the points, giving more importance to the first point, then the second, all the way to the last point. \n"
   ]
  },
  {
   "cell_type": "code",
   "execution_count": 8,
   "id": "26e10b72",
   "metadata": {},
   "outputs": [],
   "source": [
    "from scipy.interpolate import BPoly\n",
    "import numpy as np\n",
    "import matplotlib.pyplot as plt"
   ]
  },
  {
   "cell_type": "markdown",
   "id": "5528c27f",
   "metadata": {},
   "source": [
    "## Basic example"
   ]
  },
  {
   "cell_type": "code",
   "execution_count": 6,
   "id": "dfdb75e1",
   "metadata": {
    "scrolled": false
   },
   "outputs": [
    {
     "name": "stdout",
     "output_type": "stream",
     "text": [
      "X:\n",
      "[0.         0.05263158 0.10526316 0.15789474 0.21052632 0.26315789\n",
      " 0.31578947 0.36842105 0.42105263 0.47368421 0.52631579 0.57894737\n",
      " 0.63157895 0.68421053 0.73684211 0.78947368 0.84210526 0.89473684\n",
      " 0.94736842 1.        ]\n",
      "sampled_points:\n",
      "[[0.         0.        ]\n",
      " [0.00816446 0.15774894]\n",
      " [0.03207465 0.31462312]\n",
      " [0.07085581 0.46974778]\n",
      " [0.12363318 0.62224814]\n",
      " [0.189532   0.77124945]\n",
      " [0.2676775  0.91587695]\n",
      " [0.35719493 1.05525587]\n",
      " [0.45720951 1.18851144]\n",
      " [0.56684648 1.31476892]\n",
      " [0.68523108 1.43315352]\n",
      " [0.81148856 1.54279049]\n",
      " [0.94474413 1.64280507]\n",
      " [1.08412305 1.7323225 ]\n",
      " [1.22875055 1.810468  ]\n",
      " [1.37775186 1.87636682]\n",
      " [1.53025222 1.92914419]\n",
      " [1.68537688 1.96792535]\n",
      " [1.84225106 1.99183554]\n",
      " [2.         2.        ]]\n"
     ]
    },
    {
     "data": {
      "image/png": "[encoded data removed]",
      "text/plain": [
       "<Figure size 432x288 with 1 Axes>"
      ]
     },
     "metadata": {
      "needs_background": "light"
     },
     "output_type": "display_data"
    }
   ],
   "source": [
    "# first we define the control points\n",
    "control_points = np.array([\n",
    "    (0, 0), (0, 1), (1, 2), (2, 2)\n",
    "])\n",
    "\n",
    "# then a bezier is created as a BPoly object, using the control points and an arbitrary interval\n",
    "# (in this case just [0, 1])\n",
    "curve = BPoly(control_points[:, np.newaxis, :], [0, 1])\n",
    "\n",
    "# then we can generate the points along the curve by calling the BPoly object like a function,\n",
    "# passing in values in the range [0, 1]. \n",
    "X = np.linspace(0, 1, 20)\n",
    "print('X:')\n",
    "print(X)\n",
    "sampled_points = curve(X)\n",
    "print('sampled_points:')\n",
    "print(sampled_points)\n",
    "\n",
    "# the points can then be plotted or use anywhere!\n",
    "# note that BPoly only generates a set of points, not a completely smooth curve\n",
    "plt.gca().set_aspect('equal')\n",
    "plt.plot(*sampled_points.T, '.-')\n",
    "plt.plot(*control_points.T, '-o')\n",
    "plt.show()"
   ]
  },
  {
   "cell_type": "markdown",
   "id": "2463e837",
   "metadata": {},
   "source": [
    "## Spline example\n",
    "\n",
    "BPoly can handle a bezier spline, consisting of multiple bezier curves, as well.\n",
    "We just need some extra tricks. "
   ]
  },
  {
   "cell_type": "code",
   "execution_count": 4,
   "id": "67dbd363",
   "metadata": {},
   "outputs": [
    {
     "data": {
      "image/png": "[encoded data removed]",
      "text/plain": [
       "<Figure size 432x288 with 1 Axes>"
      ]
     },
     "metadata": {
      "needs_background": "light"
     },
     "output_type": "display_data"
    }
   ],
   "source": [
    "# define the control points again\n",
    "# we will be using a cubic bezier (k=3), and note that we have the exact number of \n",
    "# control points needed (7), considering the middle point is shared between the 2 curves\n",
    "control_points_spline = np.array([\n",
    "    (0, 0), (0, 1), (1, 2), (2, 2), (3, 2), (4, 3), (4, 4)\n",
    "])\n",
    "\n",
    "# the BPoly is then defined. notice how the control points are sliced such that the middle point is\n",
    "# duplicated for the 2 intervals. An additional breakpoint is also required ([0, 1, 2]). \n",
    "spline = BPoly(np.stack([control_points_spline[0:4], control_points_spline[3:7]], axis=1), [0, 1, 2])\n",
    "\n",
    "# to use, the interface stays the same! simply call the BPoly like a function. Note how we \n",
    "# extend the range to [0, 2]. The point at x=1 will be the middle (4th) control point exactly.\n",
    "sampled_points_spline = spline(np.linspace(0, 2, 40))\n",
    "plt.gca().set_aspect('equal')\n",
    "plt.plot(*sampled_points_spline.T)\n",
    "plt.plot(*control_points_spline.T, '-o')\n",
    "plt.show()"
   ]
  },
  {
   "cell_type": "markdown",
   "id": "75f844f8",
   "metadata": {},
   "source": [
    "## A fancy example\n",
    "\n",
    "Parameterized and generalized, ready for copy-and-pasting!"
   ]
  },
  {
   "cell_type": "code",
   "execution_count": 6,
   "id": "8f647ca0",
   "metadata": {},
   "outputs": [],
   "source": [
    "\"\"\"create a bezier curve/spline as a BPoly object\n",
    "Args:\n",
    "    control_points (float[n, 2]): the control points of the bezier curve\n",
    "    k (int): the order of the curve; defaults to k=3 aka cubic bezier\n",
    "Return:\n",
    "    a BPoly object representing the bezier curve\n",
    "NOTE: The number of control points must agree with the order, such that \n",
    "they can be separated into intervals with the same numeber of control points.\n",
    "E.g. for cubic bezier (k=3), we can have 4, 7, 10, etc control points.\n",
    "I.e. number of control points % k == 1\n",
    "\"\"\"\n",
    "def createBezier(control_points, k=3) -> BPoly:\n",
    "    assert len(control_points)%k == 1\n",
    "    control_points = np.asarray(control_points)\n",
    "    c = np.stack([\n",
    "        control_points[i*k:(i+1)*k+1]\n",
    "        for i in range((control_points.shape[0]-1)//k)\n",
    "    ], axis=1)\n",
    "    x = range(c.shape[1]+1)\n",
    "    return BPoly(c, x)\n",
    "\n",
    "\n",
    "\"\"\"draw a bezier curve (BPoly object) using matplotlib\"\"\"\n",
    "def drawBezier(bpoly: BPoly):\n",
    "    X = np.concatenate([np.linspace(bpoly.x[i], bpoly.x[i+1], 20) for i in range(bpoly.x.shape[0]-1)])\n",
    "    sampled_points = bpoly(X)\n",
    "    plt.gca().set_aspect('equal')\n",
    "    plt.plot(*sampled_points.T)\n",
    "    for i in range(bpoly.c.shape[1]):\n",
    "        plt.plot(*bpoly.c[:, i, :].T, '-o')\n",
    "    plt.show()"
   ]
  },
  {
   "cell_type": "code",
   "execution_count": 7,
   "id": "7ed78a0f",
   "metadata": {},
   "outputs": [
    {
     "data": {
      "image/png": "[encoded data removed]",
      "text/plain": [
       "<Figure size 432x288 with 1 Axes>"
      ]
     },
     "metadata": {
      "needs_background": "light"
     },
     "output_type": "display_data"
    }
   ],
   "source": [
    "control_points_big = np.array([\n",
    "    (0, 0), (0, 1), (1, 2), (2, 2), (3, 2), (4, 3), (5, 5), (6, 7), (3, 6), (4, 9)\n",
    "])\n",
    "bp = createBezier(control_points_big, 3)\n",
    "drawBezier(bp)"
   ]
  }
 ],
 "metadata": {
  "kernelspec": {
   "display_name": "Python 3",
   "language": "python",
   "name": "python3"
  },
  "language_info": {
   "codemirror_mode": {
    "name": "ipython",
    "version": 3
   },
   "file_extension": ".py",
   "mimetype": "text/x-python",
   "name": "python",
   "nbconvert_exporter": "python",
   "pygments_lexer": "ipython3",
   "version": "3.9.5"
  }
 },
 "nbformat": 4,
 "nbformat_minor": 5
}
